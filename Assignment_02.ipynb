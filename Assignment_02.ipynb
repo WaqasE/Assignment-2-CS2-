{
  "nbformat": 4,
  "nbformat_minor": 0,
  "metadata": {
    "colab": {
      "name": "Assignment#02.ipynb",
      "provenance": [],
      "collapsed_sections": [],
      "toc_visible": true
    },
    "kernelspec": {
      "name": "python3",
      "display_name": "Python 3"
    },
    "language_info": {
      "name": "python"
    }
  },
  "cells": [
    {
      "cell_type": "markdown",
      "metadata": {
        "id": "7R4EILqhR8Wg"
      },
      "source": [
        "# **COMSATS University, Islamabad**\n",
        "\n",
        "---\n",
        "\n",
        "\n",
        "\n",
        "***Assignment***#**02**\n",
        "\n",
        "> **Submitted By:**\n",
        "Waqas Ahmed\n",
        "(Sp18-Bcs-172)\n",
        "\n",
        "\n"
      ]
    },
    {
      "cell_type": "markdown",
      "metadata": {
        "id": "KFq_bvyjTzFY"
      },
      "source": [
        "> **Quesstion#03:**\n",
        "\n",
        "*   Visit [MadhumithaKannan - linear-regression-using-only-numpy](https://github.com/MadhumithaKannan/linear-regression-using-only-numpy) and familiarize yourself with the data available in lin_reg_data.csv and the code of different regression schemes.\n",
        "*   Randomly divide 50% data as your training set and the remaining 50% as your test set.\n",
        "*   Using training set, your goal is to find the parameters of line using linear regression, ridge regression and lasso regression respectively. Plot all three lines overlaid with original training and test data in a single figure and use legends to label the **three** lines in the figure. Show training and test sets in two different colors in that figure.\n",
        "*   In order to see how the three lines fit the training and test set, calculate the sum of square residuals of the three lines with the training and test set respectively and display the 6 values in a tabulated form."
      ]
    },
    {
      "cell_type": "markdown",
      "metadata": {
        "id": "xSscCj8uU4kj"
      },
      "source": [
        "> **Solution:**"
      ]
    },
    {
      "cell_type": "code",
      "metadata": {
        "colab": {
          "base_uri": "https://localhost:8080/"
        },
        "id": "ARbJf6yqU_Ns",
        "outputId": "bea9f191-4567-4c8c-bb90-3441e36d9248"
      },
      "source": [
        "from matplotlib import pyplot as plt\n",
        "import numpy as np\n",
        "import pandas as pd\n",
        "#------------------Reading Csv File------------------\n",
        "dataset = pd.read_csv('./drive/MyDrive/lin_reg_data.csv')\n",
        "# shape of dataset \n",
        "print(\"Shape:\", dataset.shape)\n",
        "\n",
        "x = np.array(dataset.iloc[:, 0])\n",
        "y = np.array(dataset.iloc[:, 1])\n",
        "print(len(x), len(y))"
      ],
      "execution_count": 12,
      "outputs": [
        {
          "output_type": "stream",
          "text": [
            "Shape: (99, 2)\n",
            "99 99\n"
          ],
          "name": "stdout"
        }
      ]
    },
    {
      "cell_type": "code",
      "metadata": {
        "id": "eG_Dw_ttY91v"
      },
      "source": [
        "#------------------Data Division------------------\n",
        "x_train = x[:int(len(x)/2)]\n",
        "y_train = y[:int(len(y)/2)]\n",
        "x_test = x[int(len(x)/2):]\n",
        "y_test = y[int(len(y)/2):]"
      ],
      "execution_count": 13,
      "outputs": []
    },
    {
      "cell_type": "code",
      "metadata": {
        "colab": {
          "base_uri": "https://localhost:8080/"
        },
        "id": "wOCZdvWJZK5Q",
        "outputId": "9f05518e-c979-4889-8db3-f9b0a462324a"
      },
      "source": [
        "#------------------Simple Linear Regression------------------\n",
        "\n",
        "# number of observations/points\n",
        "n = np.size(x_train)\n",
        "\n",
        "# mean of x and y vector\n",
        "m_x = np.mean(x_train)\n",
        "m_y = np.mean(y_train)\n",
        "\n",
        "# calculating cross-deviation and deviation about x\n",
        "SS_xy = np.sum(y_train*x_train) - n*m_y*m_x\n",
        "SS_xx = np.sum(x_train*x_train) - n*m_x*m_x\n",
        "\n",
        "# calculating regression coefficients\n",
        "b_1_simple = SS_xy / SS_xx\n",
        "b_0_simple = m_y - b_1_simple*m_x\n",
        "\n",
        "print('Estimated coefficients: b_0 = {}, b_1 = {}'.format(b_0_simple, b_1_simple))\n",
        "y_pred_simple = b_0_simple + b_1_simple*x_train"
      ],
      "execution_count": 14,
      "outputs": [
        {
          "output_type": "stream",
          "text": [
            "Estimated coefficients: b_0 = -0.9352773202391376, b_1 = 1.4679705099109304\n"
          ],
          "name": "stdout"
        }
      ]
    },
    {
      "cell_type": "code",
      "metadata": {
        "id": "pBiytiARZURK"
      },
      "source": [
        "#------------------Ridge Regression------------------\n",
        "learning_rate = 0.005 #learning rate\n",
        "l2_penality = 0.001 #regularization parameter\n",
        "\n",
        "# no_of_training_examples, no_of_features\n",
        "n_ridge = len(x_train)\n",
        "\n",
        "# weight initialization        \n",
        "W_ridge = np.zeros( n_ridge )\n",
        "\n",
        "b_ridge = 0\n",
        "\n",
        "y_pred_ridge = 0\n",
        "\n",
        "for i in range(100):\n",
        "    \n",
        "    y_pred_ridge = x_train * (W_ridge) + b_ridge\n",
        "    \n",
        "    dW = (-2/n_ridge)*(x_train*(y_train-y_pred_ridge))+2*l2_penality*W_ridge      \n",
        "        \n",
        "    db = (-2/n_ridge)*(y_train-y_pred_ridge)\n",
        "\n",
        "    # update weights\n",
        "    W_ridge = W_ridge - (learning_rate * dW)    \n",
        "    b_ridge = b_ridge - (learning_rate * db)"
      ],
      "execution_count": 15,
      "outputs": []
    },
    {
      "cell_type": "code",
      "metadata": {
        "id": "XGq83j5CX7nL"
      },
      "source": [
        "#------------------Lasso Regression------------------\n",
        "learning_rate = 0.01\n",
        "l2_penality = 500\n",
        "\n",
        "# no_of_training_examples, no_of_features        \n",
        "m_lasso = 1\n",
        "n_lasso = len(x_train)\n",
        "\n",
        "\n",
        "# weight initialization        \n",
        "W_lasso = np.zeros( n_lasso )\n",
        "\n",
        "b_lasso = 0\n",
        "\n",
        "y_pred_lasso = 0\n",
        "\n",
        "for i in range(1000):\n",
        "    \n",
        "    y_pred_lasso=np.zeros((y_train.shape))\n",
        "    \n",
        "    for j in range(len(x_train)):\n",
        "        \n",
        "        y_pred_lasso[j] = x_train[j] * ( W_lasso[j] ) + b_lasso\n",
        "    \n",
        "        # calculate gradients\n",
        "        if W_lasso[j] > 0:\n",
        "            dW = (-2/n_lasso)*(x_train[j]*(y_train[j]-y_pred_lasso[j]))-learning_rate      \n",
        "        else:\n",
        "            dW = (-2/n_lasso)*(x_train[j]*(y_train[j]-y_pred_lasso[j]))+learning_rate\n",
        "        \n",
        "        db = (-2/n_lasso)*(x_train[j]*(y_train[j]-y_pred_lasso[j]))+learning_rate\n",
        "          \n",
        "        # update weights\n",
        "        W_lasso = W_lasso - (learning_rate * dW)    \n",
        "        b_lasso = b_lasso - (learning_rate * db)"
      ],
      "execution_count": 16,
      "outputs": []
    },
    {
      "cell_type": "code",
      "metadata": {
        "colab": {
          "base_uri": "https://localhost:8080/",
          "height": 631
        },
        "id": "FXXzF4soaGSX",
        "outputId": "08387f5a-45c1-4b5c-d9dc-ebb261234478"
      },
      "source": [
        "#------------------Plotting------------------\n",
        "plt.figure(figsize=(8, 6), dpi=80)\n",
        "\n",
        "# plotting the actual points as scatter plot\n",
        "plt.scatter(x_train, y_train, color = \"yellow\", marker = \"o\", s = 30, label=\"Train Data\")\n",
        "plt.scatter(x_test, y_test, color = \"pink\", marker = \"o\", s = 30, label=\"Test Data\")\n",
        "\n",
        "# predicted response vector for Linear Regression\n",
        "y_pred_simple_final = b_0_simple + b_1_simple*x_test\n",
        "# plotting the Linear regression line\n",
        "plt.plot(x_test, y_pred_simple_final, color = \"g\", label='Simple Linear Regression')\n",
        "\n",
        "# predicted response vector for Ridge Regression\n",
        "y_pred_ridge_final = x_test * (W_ridge) + b_ridge\n",
        "# Plotting the Ridge regression line\n",
        "plt.plot([min(x_test), max(x_test)],\n",
        "         [min(y_pred_ridge_final), max(y_pred_ridge_final)],\n",
        "         color = \"b\", label='Ridge Linear Regression')\n",
        "\n",
        "# predicted response vector for Lasso Regression\n",
        "y_pred_lasso_final = x_test * (W_lasso) + b_lasso\n",
        "# Plotting the Lasso regression line\n",
        "plt.plot(x_test, y_pred_lasso_final, color = \"r\", label='Lasso Linear Regression')\n",
        "\n",
        "# putting labels\n",
        "plt.title('Differnet Regression Comparison')\n",
        "plt.xlabel('x')\n",
        "plt.ylabel('y')\n",
        "\n",
        "# function to show plot\n",
        "plt.legend()\n",
        "plt.show()"
      ],
      "execution_count": 20,
      "outputs": [
        {
          "output_type": "error",
          "ename": "ValueError",
          "evalue": "ignored",
          "traceback": [
            "\u001b[0;31m---------------------------------------------------------------------------\u001b[0m",
            "\u001b[0;31mValueError\u001b[0m                                Traceback (most recent call last)",
            "\u001b[0;32m<ipython-input-20-250e01fa8afe>\u001b[0m in \u001b[0;36m<module>\u001b[0;34m()\u001b[0m\n\u001b[1;32m     11\u001b[0m \u001b[0;34m\u001b[0m\u001b[0m\n\u001b[1;32m     12\u001b[0m \u001b[0;31m# predicted response vector for Ridge Regression\u001b[0m\u001b[0;34m\u001b[0m\u001b[0;34m\u001b[0m\u001b[0;34m\u001b[0m\u001b[0m\n\u001b[0;32m---> 13\u001b[0;31m \u001b[0my_pred_ridge_final\u001b[0m \u001b[0;34m=\u001b[0m \u001b[0mx_test\u001b[0m \u001b[0;34m*\u001b[0m \u001b[0;34m(\u001b[0m\u001b[0mW_ridge\u001b[0m\u001b[0;34m)\u001b[0m \u001b[0;34m+\u001b[0m \u001b[0mb_ridge\u001b[0m\u001b[0;34m\u001b[0m\u001b[0;34m\u001b[0m\u001b[0m\n\u001b[0m\u001b[1;32m     14\u001b[0m \u001b[0;31m# Plotting the Ridge regression line\u001b[0m\u001b[0;34m\u001b[0m\u001b[0;34m\u001b[0m\u001b[0;34m\u001b[0m\u001b[0m\n\u001b[1;32m     15\u001b[0m plt.plot([min(x_test), max(x_test)],\n",
            "\u001b[0;31mValueError\u001b[0m: operands could not be broadcast together with shapes (50,) (49,) "
          ]
        },
        {
          "output_type": "display_data",
          "data": {
            "image/png": "[encoded data removed]",
            "text/plain": [
              "<Figure size 640x480 with 1 Axes>"
            ]
          },
          "metadata": {
            "tags": [],
            "needs_background": "light"
          }
        }
      ]
    }
  ]
}